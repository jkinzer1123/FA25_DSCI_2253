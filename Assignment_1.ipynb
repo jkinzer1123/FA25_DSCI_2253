{
 "cells": [
  {
   "cell_type": "code",
   "execution_count": null,
   "id": "79697f64",
   "metadata": {},
   "outputs": [],
   "source": [
    "'''\n",
    "Assignment 1\n",
    "Joseph Kinzer\n",
    "DSCI 2253\n",
    "Due: 09/07/2025\n",
    "\n",
    "'''"
   ]
  },
  {
   "cell_type": "markdown",
   "id": "4fc870d5",
   "metadata": {},
   "source": [
    "The first thing we are going to want to do, is create a code cell block and import pandas and matplotlib.pyplot. Add a code cell below and write code to import those two packages and execute."
   ]
  },
  {
   "cell_type": "code",
   "execution_count": null,
   "id": "6243dfc1",
   "metadata": {},
   "outputs": [],
   "source": []
  },
  {
   "cell_type": "markdown",
   "id": "c1d47e08",
   "metadata": {},
   "source": [
    "The next thing we are going to do is pull in our dataframe. Be sure that you have the Restaurant_Sales.csv file in your same file folder that you have this notebook in. Add a code block and write the code to import your .csv and execute.\n",
    "\n",
    "Hint: because we are importing a .csv file instead of a .tsv you don't need the \"sep = \" parameter, because .read_csv() uses sep = ',' automatically."
   ]
  },
  {
   "cell_type": "code",
   "execution_count": null,
   "id": "ddd5fe6e",
   "metadata": {},
   "outputs": [],
   "source": []
  },
  {
   "cell_type": "markdown",
   "id": "af92abf0",
   "metadata": {},
   "source": [
    "Next, lets take a look at the dataframe we just pulled into our notebook. Create and run 4 different code blocks, each with a different method that lets you view your data. "
   ]
  },
  {
   "cell_type": "code",
   "execution_count": null,
   "id": "03e7dfbb",
   "metadata": {},
   "outputs": [],
   "source": []
  },
  {
   "cell_type": "code",
   "execution_count": null,
   "id": "874a9c4e",
   "metadata": {},
   "outputs": [],
   "source": []
  },
  {
   "cell_type": "code",
   "execution_count": null,
   "id": "38d2c66e",
   "metadata": {},
   "outputs": [],
   "source": []
  },
  {
   "cell_type": "code",
   "execution_count": null,
   "id": "8a6327f1",
   "metadata": {},
   "outputs": [],
   "source": []
  },
  {
   "cell_type": "markdown",
   "id": "7f8ee855",
   "metadata": {},
   "source": [
    "Now that we have checked out our dataframe, lets do some subsetting. For this section, do the following:\n",
    "\n",
    "1) Subset the dataframe by creating a reference variable \"sub_1_df\" and create a new series from just the Price column. Display this new series using .head()\n",
    "\n",
    "2) Subset the dataframe by creating a reference variable \"sub_2_df\" and create a new dataframe from the Product, Price, and City columns. Display this new dataframe using .head()\n",
    "\n",
    "3) Subset the dataframe by creating a reference variable \"sub_3_df\" and create a new dataframe from the Product, Price, and City columns, and subset to only the last 10 rows. Display this new dataframe using .head()\n",
    "\n",
    "4) Use .loc to display the first row of the \"sub_3_df\" dataframe.\n",
    "\n",
    "5) Use .iloc to display the first row of the \"sub_3_df\" dataframe.\n",
    "\n",
    "Be sure to accomplish each of these in a separate code cell. "
   ]
  },
  {
   "cell_type": "code",
   "execution_count": null,
   "id": "4eed702d",
   "metadata": {},
   "outputs": [],
   "source": []
  },
  {
   "cell_type": "code",
   "execution_count": null,
   "id": "961b88e0",
   "metadata": {},
   "outputs": [],
   "source": []
  },
  {
   "cell_type": "code",
   "execution_count": null,
   "id": "645ed69b",
   "metadata": {},
   "outputs": [],
   "source": []
  },
  {
   "cell_type": "code",
   "execution_count": null,
   "id": "1270149e",
   "metadata": {},
   "outputs": [],
   "source": []
  },
  {
   "cell_type": "code",
   "execution_count": null,
   "id": "7c9d74be",
   "metadata": {},
   "outputs": [],
   "source": []
  },
  {
   "cell_type": "markdown",
   "id": "5403b656",
   "metadata": {},
   "source": [
    "Next we will want to group our dataframe and calculate some averages. Group your original dataframe (not a subset) by Product and City. Then calculate the average Price and Quantity and flatten the table. "
   ]
  },
  {
   "cell_type": "code",
   "execution_count": null,
   "id": "895d574b",
   "metadata": {},
   "outputs": [],
   "source": []
  },
  {
   "cell_type": "markdown",
   "id": "58517317",
   "metadata": {},
   "source": [
    "The last thing we are going to do, is populate a simple visual. Use matplotlib.pyplot to create a simple bar graph with Product on the x axis and total quantity on the y axis"
   ]
  },
  {
   "cell_type": "code",
   "execution_count": null,
   "id": "b5cf1087",
   "metadata": {},
   "outputs": [],
   "source": []
  },
  {
   "cell_type": "markdown",
   "id": "ded47f77",
   "metadata": {},
   "source": []
  }
 ],
 "metadata": {
  "kernelspec": {
   "display_name": "Python 3",
   "language": "python",
   "name": "python3"
  },
  "language_info": {
   "codemirror_mode": {
    "name": "ipython",
    "version": 3
   },
   "file_extension": ".py",
   "mimetype": "text/x-python",
   "name": "python",
   "nbconvert_exporter": "python",
   "pygments_lexer": "ipython3",
   "version": "3.13.6"
  }
 },
 "nbformat": 4,
 "nbformat_minor": 5
}
